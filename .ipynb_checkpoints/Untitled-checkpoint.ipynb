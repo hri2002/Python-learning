{
 "cells": [
  {
   "cell_type": "markdown",
   "metadata": {},
   "source": [
    "# Confitional Statement\n",
    "\n",
    "## If\n",
    "## else\n",
    "## elif"
   ]
  },
  {
   "cell_type": "code",
   "execution_count": 6,
   "metadata": {},
   "outputs": [
    {
     "name": "stdout",
     "output_type": "stream",
     "text": [
      "10 is a even number\n"
     ]
    }
   ],
   "source": [
    "#even or odd\n",
    "n = 10\n",
    "if n%2 == 0:\n",
    "    print(n, \"is a even number\")\n",
    "else:\n",
    "    print(\"{} is a odd number\".format(n))"
   ]
  },
  {
   "cell_type": "code",
   "execution_count": 7,
   "metadata": {},
   "outputs": [
    {
     "name": "stdout",
     "output_type": "stream",
     "text": [
      "Greatest number is 5\n"
     ]
    }
   ],
   "source": [
    "# greatest among 3 numbers\n",
    "num1, num2, num3 = 2, 3 ,5\n",
    "result = \"Greatest number is \"\n",
    "if num1 > num2:\n",
    "    if num1 > num3:\n",
    "        print(result + str(num1))\n",
    "    else:\n",
    "        print(result + str(num3))\n",
    "else:\n",
    "    if num2 > num3:\n",
    "        print(result + str(num2))\n",
    "    else:\n",
    "        print(result + str(num3))\n",
    "        \n",
    "    "
   ]
  },
  {
   "cell_type": "code",
   "execution_count": 10,
   "metadata": {},
   "outputs": [
    {
     "name": "stdout",
     "output_type": "stream",
     "text": [
      "Student grade is Fail\n"
     ]
    }
   ],
   "source": [
    "# Grading\n",
    "s1, s2, s3 = 10, 40, 80\n",
    "res= \"Student grade is\"\n",
    "per = (s1 + s2 + s3)/3\n",
    "if per > 90:\n",
    "    print(res + 'A1')\n",
    "elif per > 80:\n",
    "    print(res + 'B')\n",
    "else:\n",
    "    print(res + ' Fail')"
   ]
  },
  {
   "cell_type": "code",
   "execution_count": null,
   "metadata": {},
   "outputs": [],
   "source": []
  }
 ],
 "metadata": {
  "kernelspec": {
   "display_name": "Python 3",
   "language": "python",
   "name": "python3"
  },
  "language_info": {
   "codemirror_mode": {
    "name": "ipython",
    "version": 3
   },
   "file_extension": ".py",
   "mimetype": "text/x-python",
   "name": "python",
   "nbconvert_exporter": "python",
   "pygments_lexer": "ipython3",
   "version": "3.7.6"
  }
 },
 "nbformat": 4,
 "nbformat_minor": 4
}
